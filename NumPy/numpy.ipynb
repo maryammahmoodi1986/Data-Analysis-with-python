{
  "cells": [
    {
      "cell_type": "code",
      "execution_count": null,
      "id": "b468a215",
      "metadata": {
        "id": "b468a215"
      },
      "outputs": [],
      "source": [
        "import numpy as np"
      ]
    },
    {
      "cell_type": "code",
      "execution_count": null,
      "id": "411a9669",
      "metadata": {
        "id": "411a9669",
        "outputId": "d215b176-96c4-4965-da75-f58d4ed02700"
      },
      "outputs": [
        {
          "name": "stdout",
          "output_type": "stream",
          "text": [
            "[1 2 3 4 5]\n"
          ]
        }
      ],
      "source": [
        "# Create a 1-dimensional array from a list\n",
        "arr = np.array([1, 2, 3, 4, 5])\n",
        "print(arr)"
      ]
    },
    {
      "cell_type": "code",
      "execution_count": null,
      "id": "52c70942",
      "metadata": {
        "id": "52c70942",
        "outputId": "ae1d41ec-b79b-4ad6-e018-4ff1243507c8"
      },
      "outputs": [
        {
          "name": "stdout",
          "output_type": "stream",
          "text": [
            "1\n",
            "3\n"
          ]
        }
      ],
      "source": [
        "# Access elements of the array using indexing (starting from 0)\n",
        "print(arr[0])\n",
        "print(arr[2])"
      ]
    },
    {
      "cell_type": "code",
      "execution_count": null,
      "id": "44f88c66",
      "metadata": {
        "id": "44f88c66",
        "outputId": "327e6933-0b7a-47cf-e115-30d6bbd67f27"
      },
      "outputs": [
        {
          "name": "stdout",
          "output_type": "stream",
          "text": [
            "[ 1  2  3 10  5]\n"
          ]
        }
      ],
      "source": [
        "# Modify an element of the array using indexing\n",
        "arr[3] = 10\n",
        "print(arr)"
      ]
    },
    {
      "cell_type": "code",
      "execution_count": null,
      "id": "88e7a4f4",
      "metadata": {
        "id": "88e7a4f4",
        "outputId": "e04be420-72ca-4da1-9a37-42d5efc24fa6"
      },
      "outputs": [
        {
          "name": "stdout",
          "output_type": "stream",
          "text": [
            "5\n"
          ]
        }
      ],
      "source": [
        "# Calculate the length of the array\n",
        "print(len(arr))"
      ]
    },
    {
      "cell_type": "code",
      "execution_count": null,
      "id": "0cdbb301",
      "metadata": {
        "id": "0cdbb301",
        "outputId": "d7561c54-ae3f-4541-fc53-ec6cf581c41c"
      },
      "outputs": [
        {
          "name": "stdout",
          "output_type": "stream",
          "text": [
            "[[1 2 3]\n",
            " [4 5 6]\n",
            " [7 8 9]]\n"
          ]
        }
      ],
      "source": [
        "# Create a 2-dimensional array from a list of lists\n",
        "arr_2d = np.array([[1, 2, 3], [4, 5, 6], [7, 8, 9]])\n",
        "print(arr_2d)"
      ]
    },
    {
      "cell_type": "code",
      "execution_count": null,
      "id": "0206f673",
      "metadata": {
        "id": "0206f673",
        "outputId": "178cb8af-7aee-411a-a267-5925cd0cb141"
      },
      "outputs": [
        {
          "name": "stdout",
          "output_type": "stream",
          "text": [
            "1\n",
            "6\n"
          ]
        }
      ],
      "source": [
        "# Access elements of the array using indexing (starting from 0)\n",
        "print(arr_2d[0, 0])\n",
        "print(arr_2d[1, 2])"
      ]
    },
    {
      "cell_type": "code",
      "execution_count": null,
      "id": "f93cf54a",
      "metadata": {
        "id": "f93cf54a",
        "outputId": "200365c1-134c-47a5-c5ef-b82227ab2cf8"
      },
      "outputs": [
        {
          "name": "stdout",
          "output_type": "stream",
          "text": [
            "[[ 1  2  3]\n",
            " [ 4  5  6]\n",
            " [ 7 10  9]]\n"
          ]
        }
      ],
      "source": [
        "# Modify an element of the array using indexing\n",
        "arr_2d[2, 1] = 10\n",
        "print(arr_2d)"
      ]
    },
    {
      "cell_type": "code",
      "execution_count": null,
      "id": "6096e7ee",
      "metadata": {
        "id": "6096e7ee",
        "outputId": "8407453b-e157-4406-f77c-bdc1a86b6c69"
      },
      "outputs": [
        {
          "name": "stdout",
          "output_type": "stream",
          "text": [
            "(3, 3)\n"
          ]
        }
      ],
      "source": [
        "# Calculate the shape of the array (i.e., the number of rows and columns)\n",
        "print(arr_2d.shape)"
      ]
    },
    {
      "cell_type": "code",
      "execution_count": null,
      "id": "12b47b44",
      "metadata": {
        "id": "12b47b44",
        "outputId": "8ad22031-ea93-4f80-b62e-e46f5b7d9c37"
      },
      "outputs": [
        {
          "name": "stdout",
          "output_type": "stream",
          "text": [
            "[[[9 9 3 8]\n",
            "  [2 1 8 0]\n",
            "  [8 7 8 1]]\n",
            "\n",
            " [[2 1 5 1]\n",
            "  [0 2 7 7]\n",
            "  [5 3 3 9]]]\n"
          ]
        }
      ],
      "source": [
        "# Create a 3-dimensional array with random integers between 0 and 9, with dimensions 2 x 3 x 4\n",
        "arr = np.random.randint(0, 10, (2, 3, 4))\n",
        "print(arr)"
      ]
    },
    {
      "cell_type": "code",
      "execution_count": null,
      "id": "126fcc58",
      "metadata": {
        "id": "126fcc58",
        "outputId": "f824f79e-76c6-418d-da8f-de67fd2bd431"
      },
      "outputs": [
        {
          "name": "stdout",
          "output_type": "stream",
          "text": [
            "[[5.5 5.  4.  4.5]\n",
            " [1.  1.5 7.5 3.5]\n",
            " [6.5 5.  5.5 5. ]]\n"
          ]
        }
      ],
      "source": [
        "# Calculate the mean along the first axis (axis 0)\n",
        "mean_along_first_axis = np.mean(arr, axis=0)\n",
        "print(mean_along_first_axis)"
      ]
    },
    {
      "cell_type": "code",
      "execution_count": null,
      "id": "9f5a7ba3",
      "metadata": {
        "id": "9f5a7ba3",
        "outputId": "e85ef82c-e5f4-4ed3-8993-3fe44722684a"
      },
      "outputs": [
        {
          "name": "stdout",
          "output_type": "stream",
          "text": [
            "[[6.33333333 5.66666667 6.33333333 3.        ]\n",
            " [2.33333333 2.         5.         5.66666667]]\n"
          ]
        }
      ],
      "source": [
        "# Calculate the mean along the second axis (axis 1)\n",
        "mean_along_second_axis = np.mean(arr, axis=1)\n",
        "print(mean_along_second_axis)"
      ]
    },
    {
      "cell_type": "code",
      "execution_count": null,
      "id": "0af088d0",
      "metadata": {
        "id": "0af088d0",
        "outputId": "757a96a2-43d7-4ef4-b644-52c1195a7716"
      },
      "outputs": [
        {
          "name": "stdout",
          "output_type": "stream",
          "text": [
            "[[7.25 2.75 6.  ]\n",
            " [2.25 4.   5.  ]]\n"
          ]
        }
      ],
      "source": [
        "# Calculate the mean along the third axis (axis 2)\n",
        "mean_along_third_axis = np.mean(arr, axis=2)\n",
        "print(mean_along_third_axis)"
      ]
    },
    {
      "cell_type": "markdown",
      "id": "2b0562de",
      "metadata": {
        "id": "2b0562de"
      },
      "source": [
        "# Example of broadcasting"
      ]
    },
    {
      "cell_type": "code",
      "execution_count": null,
      "id": "d8008d4e",
      "metadata": {
        "id": "d8008d4e",
        "outputId": "9e1ce29b-7779-4536-ee6e-49f2ba029458"
      },
      "outputs": [
        {
          "name": "stdout",
          "output_type": "stream",
          "text": [
            "[[1 0 5]\n",
            " [9 0 9]\n",
            " [2 8 6]]\n",
            "[[11 10 15]\n",
            " [19 10 19]\n",
            " [12 18 16]]\n",
            "[[ 2  2  8]\n",
            " [10  2 12]\n",
            " [ 3 10  9]]\n"
          ]
        }
      ],
      "source": [
        "# Create a 2-dimensional array with random integers between 0 and 9, with dimensions 3 x 3\n",
        "arr_2d = np.random.randint(0, 10, (3, 3))\n",
        "print(arr_2d)\n",
        "\n",
        "# Add a scalar to the array using broadcasting\n",
        "scalar = 10\n",
        "result = arr_2d + scalar\n",
        "print(result)\n",
        "\n",
        "# Add a 1-dimensional array to the array using broadcasting\n",
        "arr_1d = np.array([1, 2, 3])\n",
        "result = arr_2d + arr_1d\n",
        "print(result)"
      ]
    },
    {
      "cell_type": "code",
      "execution_count": null,
      "id": "98a4e29b",
      "metadata": {
        "id": "98a4e29b",
        "outputId": "6bf9492d-7d25-41c6-82b1-c406d9f266ec"
      },
      "outputs": [
        {
          "name": "stdout",
          "output_type": "stream",
          "text": [
            "[[1 2 3]\n",
            " [4 5 6]]\n",
            "[[11 22 33]\n",
            " [14 25 36]]\n",
            "[[10 20 30]\n",
            " [40 50 60]]\n"
          ]
        }
      ],
      "source": [
        "# Create a 2-dimensional array\n",
        "arr = np.array([[1, 2, 3], [4, 5, 6]])\n",
        "print(arr)\n",
        "\n",
        "#Add a 1-dimensional array to each row of the 2-dimensional array using broadcasting\n",
        "result = arr + np.array([10, 20, 30])\n",
        "print(result)\n",
        "\n",
        "#Multiply each element of the 2-dimensional array by a scalar using broadcasting\n",
        "result = arr * 10\n",
        "print(result)"
      ]
    },
    {
      "cell_type": "code",
      "execution_count": null,
      "id": "5f59ab89",
      "metadata": {
        "id": "5f59ab89",
        "outputId": "95bf0b71-a188-479b-84c9-81c0970a8b92"
      },
      "outputs": [
        {
          "name": "stdout",
          "output_type": "stream",
          "text": [
            "[[1 2]\n",
            " [3 4]]\n",
            "[[2 4]\n",
            " [6 8]]\n",
            "[2 3]\n",
            "[[3 5]\n",
            " [5 7]]\n"
          ]
        }
      ],
      "source": [
        "# Create a 2-dimensional array with 2 rows and 2 columns\n",
        "arr = np.array([[1, 2], [3, 4]])\n",
        "print(arr)\n",
        "\n",
        "# Multiply the array by a scalar using broadcasting\n",
        "result = arr * 2\n",
        "print(result)\n",
        "\n",
        "# Create a 1-dimensional array with 2 elements\n",
        "arr2 = np.array([2, 3])\n",
        "print(arr2)\n",
        "\n",
        "# Add the array to the matrix using broadcasting\n",
        "result = arr + arr2\n",
        "print(result)"
      ]
    },
    {
      "cell_type": "markdown",
      "id": "09323bf1",
      "metadata": {
        "id": "09323bf1"
      },
      "source": [
        "# Example of reshaping"
      ]
    },
    {
      "cell_type": "code",
      "execution_count": null,
      "id": "c0b2f99e",
      "metadata": {
        "id": "c0b2f99e",
        "outputId": "c3a8811e-e030-41fc-d880-85e106ae6c91"
      },
      "outputs": [
        {
          "name": "stdout",
          "output_type": "stream",
          "text": [
            "[ 0  1  2  3  4  5  6  7  8  9 10 11]\n",
            "[[ 0  1  2  3]\n",
            " [ 4  5  6  7]\n",
            " [ 8  9 10 11]]\n",
            "[[[ 0  1]\n",
            "  [ 2  3]]\n",
            "\n",
            " [[ 4  5]\n",
            "  [ 6  7]]\n",
            "\n",
            " [[ 8  9]\n",
            "  [10 11]]]\n"
          ]
        }
      ],
      "source": [
        "# Create a 1-dimensional array with 12 elements\n",
        "arr = np.arange(12)\n",
        "print(arr)\n",
        "\n",
        "# Reshape the array to a 3 x 4 2-dimensional array\n",
        "arr_2d = arr.reshape((3, 4))\n",
        "print(arr_2d)\n",
        "\n",
        "# Reshape the array to a 3 x 2 x 2 3-dimensional array\n",
        "arr_3d = arr.reshape((3, 2, 2))\n",
        "print(arr_3d)"
      ]
    },
    {
      "cell_type": "markdown",
      "id": "1409d2d3",
      "metadata": {
        "id": "1409d2d3"
      },
      "source": [
        "# Example of indexing with boolean arrays"
      ]
    },
    {
      "cell_type": "code",
      "execution_count": null,
      "id": "dbf86e36",
      "metadata": {
        "id": "dbf86e36",
        "outputId": "882dffae-4009-49a5-81f4-2ddffd7bb288"
      },
      "outputs": [
        {
          "name": "stdout",
          "output_type": "stream",
          "text": [
            "[1 2 3 4 5 6]\n",
            "[False False False  True  True  True]\n",
            "[4 5 6]\n"
          ]
        }
      ],
      "source": [
        "# Create a 1-dimensional array with 6 elements\n",
        "arr = np.array([1, 2, 3, 4, 5, 6])\n",
        "print(arr)\n",
        "\n",
        "# Create a boolean array indicating which elements are greater than 3\n",
        "bool_arr = arr > 3\n",
        "print(bool_arr)\n",
        "\n",
        "# Use the boolean array as an index to select the elements that meet the condition\n",
        "result = arr[bool_arr]\n",
        "print(result)"
      ]
    },
    {
      "cell_type": "markdown",
      "id": "e507ac3f",
      "metadata": {
        "id": "e507ac3f"
      },
      "source": [
        "# Example of vectorization"
      ]
    },
    {
      "cell_type": "code",
      "execution_count": null,
      "id": "5a27d588",
      "metadata": {
        "id": "5a27d588",
        "outputId": "84e669fb-773e-45e0-8478-e9389db98f60"
      },
      "outputs": [
        {
          "name": "stdout",
          "output_type": "stream",
          "text": [
            "[1 2 3 4 5 6]\n",
            "[2 3 4 5 6 7]\n",
            "[ 1  4  9 16 25 36]\n"
          ]
        }
      ],
      "source": [
        "\n",
        "# Create a 1-dimensional array with 6 elements\n",
        "arr = np.array([1, 2, 3, 4, 5, 6])\n",
        "print(arr)\n",
        "\n",
        "# Add 1 to each element using vectorization\n",
        "result = arr + 1\n",
        "print(result)\n",
        "\n",
        "# Calculate the square of each element using vectorization\n",
        "result = arr ** 2\n",
        "print(result)"
      ]
    },
    {
      "cell_type": "markdown",
      "id": "b1a59ef8",
      "metadata": {
        "id": "b1a59ef8"
      },
      "source": [
        "# Example of universal functions"
      ]
    },
    {
      "cell_type": "code",
      "execution_count": null,
      "id": "59646c09",
      "metadata": {
        "id": "59646c09",
        "outputId": "8a2ce034-7436-4cf7-9bd9-cfe3d281c809"
      },
      "outputs": [
        {
          "name": "stdout",
          "output_type": "stream",
          "text": [
            "[1 2 3 4 5 6]\n",
            "[ 0.84147098  0.90929743  0.14112001 -0.7568025  -0.95892427 -0.2794155 ]\n",
            "[  2.71828183   7.3890561   20.08553692  54.59815003 148.4131591\n",
            " 403.42879349]\n"
          ]
        }
      ],
      "source": [
        "# Create a 1-dimensional array with 6 elements\n",
        "arr = np.array([1, 2, 3, 4, 5, 6])\n",
        "print(arr)\n",
        "\n",
        "# Calculate the sine of each element using a universal function\n",
        "result = np.sin(arr)\n",
        "print(result)\n",
        "\n",
        "# Calculate the exponential of each element using a universal function\n",
        "result = np.exp(arr)\n",
        "print(result)"
      ]
    },
    {
      "cell_type": "markdown",
      "id": "f74d69f2",
      "metadata": {
        "id": "f74d69f2"
      },
      "source": [
        "# Example of aggregation functions"
      ]
    },
    {
      "cell_type": "code",
      "execution_count": null,
      "id": "18bd8094",
      "metadata": {
        "id": "18bd8094",
        "outputId": "375efedc-021a-4d56-9a49-a1529e149d0b"
      },
      "outputs": [
        {
          "name": "stdout",
          "output_type": "stream",
          "text": [
            "[1 2 3 4 5 6]\n",
            "3.5\n",
            "6\n",
            "21\n"
          ]
        }
      ],
      "source": [
        "# Create a 1-dimensional array with 6 elements\n",
        "arr = np.array([1, 2, 3, 4, 5, 6])\n",
        "print(arr)\n",
        "\n",
        "# Calculate the mean of the elements using an aggregation function\n",
        "result = np.mean(arr)\n",
        "print(result)\n",
        "\n",
        "# Calculate the maximum of the elements using an aggregation function\n",
        "result = np.max(arr)\n",
        "print(result)\n",
        "\n",
        "# Calculate the sum of the elements using an aggregation function\n",
        "result = np.sum(arr)\n",
        "print(result)"
      ]
    },
    {
      "cell_type": "markdown",
      "id": "28a60413",
      "metadata": {
        "id": "28a60413"
      },
      "source": [
        "# Example of indexing and slicing"
      ]
    },
    {
      "cell_type": "code",
      "execution_count": null,
      "id": "d022d18a",
      "metadata": {
        "id": "d022d18a",
        "outputId": "5aab9f4f-81af-4663-b45c-ca36df7d8152"
      },
      "outputs": [
        {
          "name": "stdout",
          "output_type": "stream",
          "text": [
            "[[ 1  2  3  4]\n",
            " [ 5  6  7  8]\n",
            " [ 9 10 11 12]]\n",
            "7\n",
            "[[3 4]\n",
            " [7 8]]\n"
          ]
        }
      ],
      "source": [
        "# Create a 2-dimensional array with 3 rows and 4 columns\n",
        "arr = np.array([[1, 2, 3, 4], [5, 6, 7, 8], [9, 10, 11, 12]])\n",
        "print(arr)\n",
        "\n",
        "# Access the element at row 1, column 2 using indexing\n",
        "result = arr[1, 2]\n",
        "print(result)\n",
        "\n",
        "# Slice the array to get the first 2 rows and the last 2 columns\n",
        "result = arr[:2, 2:]\n",
        "print(result)"
      ]
    },
    {
      "cell_type": "markdown",
      "id": "1d29e628",
      "metadata": {
        "id": "1d29e628"
      },
      "source": [
        "# Example of np.reshape()"
      ]
    },
    {
      "cell_type": "code",
      "execution_count": null,
      "id": "c2b1b2f2",
      "metadata": {
        "id": "c2b1b2f2",
        "outputId": "99fbdd83-cb4f-4e99-8359-ed7d4aef5f86"
      },
      "outputs": [
        {
          "name": "stdout",
          "output_type": "stream",
          "text": [
            "[1 2 3 4 5 6 7 8]\n",
            "[[1 2 3 4]\n",
            " [5 6 7 8]]\n",
            "[[1 2]\n",
            " [3 4]\n",
            " [5 6]\n",
            " [7 8]]\n",
            "[[1]\n",
            " [2]\n",
            " [3]\n",
            " [4]\n",
            " [5]\n",
            " [6]\n",
            " [7]\n",
            " [8]]\n"
          ]
        }
      ],
      "source": [
        "# Create a 1-dimensional array with 8 values\n",
        "arr = np.array([1, 2, 3, 4, 5, 6, 7, 8])\n",
        "print(arr)\n",
        "\n",
        "# Reshape the array to have 2 rows and 4 columns\n",
        "arr = arr.reshape(2, 4)\n",
        "print(arr)\n",
        "\n",
        "# Reshape the array to have 4 rows and 2 columns\n",
        "arr = arr.reshape(4, 2)\n",
        "print(arr)\n",
        "\n",
        "# Reshape the array to have 8 rows and 1 column\n",
        "arr = arr.reshape(8, 1)\n",
        "print(arr)"
      ]
    },
    {
      "cell_type": "markdown",
      "id": "79f368c5",
      "metadata": {
        "id": "79f368c5"
      },
      "source": [
        "# Example of np.transpose()"
      ]
    },
    {
      "cell_type": "code",
      "execution_count": null,
      "id": "8c447bcf",
      "metadata": {
        "id": "8c447bcf",
        "outputId": "ed6474a5-7555-4410-f347-af4bf6ee6e49"
      },
      "outputs": [
        {
          "name": "stdout",
          "output_type": "stream",
          "text": [
            "[[ 1  2  3  4]\n",
            " [ 5  6  7  8]\n",
            " [ 9 10 11 12]]\n",
            "[[ 1  5  9]\n",
            " [ 2  6 10]\n",
            " [ 3  7 11]\n",
            " [ 4  8 12]]\n"
          ]
        }
      ],
      "source": [
        "# Create a 2-dimensional array with 3 rows and 4 columns\n",
        "arr = np.array([[1, 2, 3, 4], [5, 6, 7, 8], [9, 10, 11, 12]])\n",
        "print(arr)\n",
        "\n",
        "# Transpose the array to have 4 rows and 3 columns\n",
        "arr = np.transpose(arr)\n",
        "print(arr)"
      ]
    },
    {
      "cell_type": "markdown",
      "id": "5760857b",
      "metadata": {
        "id": "5760857b"
      },
      "source": [
        "# Example of reshaping and transposing"
      ]
    },
    {
      "cell_type": "code",
      "execution_count": null,
      "id": "a67e365c",
      "metadata": {
        "id": "a67e365c",
        "outputId": "37ab0cec-b7b6-4988-a335-6a6e49d7258c"
      },
      "outputs": [
        {
          "name": "stdout",
          "output_type": "stream",
          "text": [
            "[ 1  2  3  4  5  6  7  8  9 10 11 12]\n",
            "[[ 1  2  3  4]\n",
            " [ 5  6  7  8]\n",
            " [ 9 10 11 12]]\n",
            "[[ 1  5  9]\n",
            " [ 2  6 10]\n",
            " [ 3  7 11]\n",
            " [ 4  8 12]]\n"
          ]
        }
      ],
      "source": [
        "# Create a 1-dimensional array with 12 elements\n",
        "arr = np.array([1, 2, 3, 4, 5, 6, 7, 8, 9, 10, 11, 12])\n",
        "print(arr)\n",
        "\n",
        "# Reshape the array to a 3x4 matrix\n",
        "result = arr.reshape(3, 4)\n",
        "print(result)\n",
        "\n",
        "# Transpose the matrix\n",
        "result = result.T\n",
        "print(result)"
      ]
    },
    {
      "cell_type": "markdown",
      "id": "4716e9b6",
      "metadata": {
        "id": "4716e9b6"
      },
      "source": [
        "# Example of np.dot()"
      ]
    },
    {
      "cell_type": "code",
      "execution_count": null,
      "id": "072d4e55",
      "metadata": {
        "id": "072d4e55",
        "outputId": "ac1abb38-65cc-4771-c16e-a33787820240"
      },
      "outputs": [
        {
          "name": "stdout",
          "output_type": "stream",
          "text": [
            "[[1 2 3]\n",
            " [4 5 6]]\n",
            "[[ 7  8]\n",
            " [ 9 10]\n",
            " [11 12]]\n",
            "[[ 58  64]\n",
            " [139 154]]\n"
          ]
        }
      ],
      "source": [
        "# Create a 2-dimensional array with 2 rows and 3 columns\n",
        "arr = np.array([[1, 2, 3], [4, 5, 6]])\n",
        "print(arr)\n",
        "\n",
        "# Create a 2-dimensional array with 3 rows and 2 columns\n",
        "arr2 = np.array([[7, 8], [9, 10], [11, 12]])\n",
        "print(arr2)\n",
        "\n",
        "# Multiply the two matrices using the dot product\n",
        "result = np.dot(arr, arr2)\n",
        "print(result)"
      ]
    },
    {
      "cell_type": "markdown",
      "id": "62794f06",
      "metadata": {
        "id": "62794f06"
      },
      "source": [
        "# Example of masking"
      ]
    },
    {
      "cell_type": "code",
      "execution_count": null,
      "id": "253d7d15",
      "metadata": {
        "id": "253d7d15",
        "outputId": "acc333fd-3103-4b89-faa2-13deda4c840a"
      },
      "outputs": [
        {
          "name": "stdout",
          "output_type": "stream",
          "text": [
            "[1 2 3 4 5]\n",
            "[False False  True  True  True]\n",
            "[3 4 5]\n"
          ]
        }
      ],
      "source": [
        "# Create a 1-dimensional array with 5 elements\n",
        "arr = np.array([1, 2, 3, 4, 5])\n",
        "print(arr)\n",
        "\n",
        "# Create a mask based on a condition\n",
        "mask = arr > 2\n",
        "print(mask)\n",
        "\n",
        "# Filter the array using the mask\n",
        "result = arr[mask]\n",
        "print(result)"
      ]
    },
    {
      "cell_type": "markdown",
      "id": "46d1689a",
      "metadata": {
        "id": "46d1689a"
      },
      "source": [
        "# Example of universal functions"
      ]
    },
    {
      "cell_type": "code",
      "execution_count": null,
      "id": "74fa785c",
      "metadata": {
        "id": "74fa785c",
        "outputId": "57ff94ea-21ad-4682-efa2-cf649fc6a582"
      },
      "outputs": [
        {
          "name": "stdout",
          "output_type": "stream",
          "text": [
            "[1 2 3 4 5]\n",
            "[1.         1.41421356 1.73205081 2.         2.23606798]\n",
            "[  2.71828183   7.3890561   20.08553692  54.59815003 148.4131591 ]\n"
          ]
        }
      ],
      "source": [
        "# Create a 1-dimensional array with 5 elements\n",
        "arr = np.array([1, 2, 3, 4, 5])\n",
        "print(arr)\n",
        "\n",
        "# Take the square root of the array using a universal function\n",
        "result = np.sqrt(arr)\n",
        "print(result)\n",
        "\n",
        "# Take the exponential of the array using a universal function\n",
        "result = np.exp(arr)\n",
        "print(result)"
      ]
    },
    {
      "cell_type": "markdown",
      "id": "d983e2cb",
      "metadata": {
        "id": "d983e2cb"
      },
      "source": [
        "# Example of np.where()"
      ]
    },
    {
      "cell_type": "code",
      "execution_count": null,
      "id": "08db0acb",
      "metadata": {
        "id": "08db0acb",
        "outputId": "2a14c0a0-35df-4f52-b162-4ffba2708076"
      },
      "outputs": [
        {
          "name": "stdout",
          "output_type": "stream",
          "text": [
            "[1 2 3 4 5]\n",
            "[1 1 1 0 0]\n"
          ]
        }
      ],
      "source": [
        "# Create a 1-dimensional array with 5 elements\n",
        "arr = np.array([1, 2, 3, 4, 5])\n",
        "print(arr)\n",
        "\n",
        "# Replace all values greater than 3 with 0, and all other values with 1\n",
        "result = np.where(arr > 3, 0, 1)\n",
        "print(result)"
      ]
    },
    {
      "cell_type": "markdown",
      "id": "1f7ed825",
      "metadata": {
        "id": "1f7ed825"
      },
      "source": [
        "# Example of np.unique()"
      ]
    },
    {
      "cell_type": "code",
      "execution_count": null,
      "id": "5f86900d",
      "metadata": {
        "id": "5f86900d",
        "outputId": "81b55d86-4191-4e6d-cd04-39f2a67f26a2"
      },
      "outputs": [
        {
          "name": "stdout",
          "output_type": "stream",
          "text": [
            "[1 2 3 1 2 3 4 5]\n",
            "[1 2 3 4 5]\n"
          ]
        }
      ],
      "source": [
        "# Create a 1-dimensional array with 8 elements\n",
        "arr = np.array([1, 2, 3, 1, 2, 3, 4, 5])\n",
        "print(arr)\n",
        "\n",
        "# Find the unique values in the array\n",
        "result = np.unique(arr)\n",
        "print(result)"
      ]
    },
    {
      "cell_type": "markdown",
      "id": "19bc804a",
      "metadata": {
        "id": "19bc804a"
      },
      "source": [
        "# Example of np.arange()"
      ]
    },
    {
      "cell_type": "code",
      "execution_count": null,
      "id": "b6f6f9a1",
      "metadata": {
        "id": "b6f6f9a1",
        "outputId": "917480a6-8385-4a0b-ccc8-402f33e48eb2"
      },
      "outputs": [
        {
          "name": "stdout",
          "output_type": "stream",
          "text": [
            "[0 1 2 3 4 5 6 7 8 9]\n",
            "[2 3 4 5 6 7 8 9]\n",
            "[0 2 4 6 8]\n"
          ]
        }
      ],
      "source": [
        "# Create a 1-dimensional array with values ranging from 0 to 9\n",
        "arr = np.arange(10)\n",
        "print(arr)\n",
        "\n",
        "# Create a 1-dimensional array with values ranging from 2 to 9\n",
        "arr = np.arange(2, 10)\n",
        "print(arr)\n",
        "\n",
        "# Create a 1-dimensional array with values ranging from 0 to 9 in steps of 2\n",
        "arr = np.arange(0, 10, 2)\n",
        "print(arr)"
      ]
    },
    {
      "cell_type": "markdown",
      "id": "ace479ec",
      "metadata": {
        "id": "ace479ec"
      },
      "source": [
        "# Example of np.linspace()"
      ]
    },
    {
      "cell_type": "code",
      "execution_count": null,
      "id": "bd993d9a",
      "metadata": {
        "id": "bd993d9a",
        "outputId": "ad293622-c848-4ad2-e1ea-250179209e33"
      },
      "outputs": [
        {
          "name": "stdout",
          "output_type": "stream",
          "text": [
            "[0.   0.25 0.5  0.75 1.  ]\n",
            "[0.    0.125 0.25  0.375 0.5   0.625 0.75  0.875 1.   ]\n"
          ]
        }
      ],
      "source": [
        "# Create a 1-dimensional array with 5 values ranging from 0 to 1\n",
        "arr = np.linspace(0, 1, 5)\n",
        "print(arr)\n",
        "\n",
        "# Create a 1-dimensional array with 9 values ranging from 0 to 1\n",
        "arr = np.linspace(0, 1, 9)\n",
        "print(arr)"
      ]
    },
    {
      "cell_type": "markdown",
      "id": "c2f4e26c",
      "metadata": {
        "id": "c2f4e26c"
      },
      "source": [
        "# Example of np.random.rand()"
      ]
    },
    {
      "cell_type": "code",
      "execution_count": null,
      "id": "d112496c",
      "metadata": {
        "id": "d112496c",
        "outputId": "c1263fa4-44d7-4bc3-804d-b71653350165"
      },
      "outputs": [
        {
          "name": "stdout",
          "output_type": "stream",
          "text": [
            "[0.26858177 0.69149535 0.23095341 0.12962371 0.8604074 ]\n",
            "[[0.70088442 0.11882869 0.79625926 0.81695681]\n",
            " [0.26399089 0.97215307 0.36141137 0.36580977]\n",
            " [0.74733124 0.87195507 0.92389963 0.72098341]]\n"
          ]
        }
      ],
      "source": [
        "#Create a 1-dimensional array with 5 random values between 0 and 1\n",
        "arr = np.random.rand(5)\n",
        "print(arr)\n",
        "\n",
        "#Create a 2-dimensional array with 3 rows and 4 columns of random values between 0 and 1\n",
        "arr = np.random.rand(3, 4)\n",
        "print(arr)"
      ]
    },
    {
      "cell_type": "markdown",
      "id": "88ca03a9",
      "metadata": {
        "id": "88ca03a9"
      },
      "source": [
        "# Example of np.random.randn()"
      ]
    },
    {
      "cell_type": "code",
      "execution_count": null,
      "id": "8474573c",
      "metadata": {
        "id": "8474573c",
        "outputId": "c1608ee4-2b9e-4175-8024-4d6867fa4de2"
      },
      "outputs": [
        {
          "name": "stdout",
          "output_type": "stream",
          "text": [
            "[ 0.97456311 -0.6047244  -1.01857925 -1.63530789 -0.31293773]\n",
            "[[-0.78218483  0.24483353 -0.34408212 -0.49615184]\n",
            " [ 0.22160847  0.35165678 -0.80581621 -0.03467058]\n",
            " [-1.38898025  1.34418757 -0.94358719  0.88015055]]\n"
          ]
        }
      ],
      "source": [
        "# Create a 1-dimensional array with 5 random values between -1 and 1 with a normal distribution\n",
        "arr = np.random.randn(5)\n",
        "print(arr)\n",
        "\n",
        "# Create a 2-dimensional array with 3 rows and 4 columns of random values between -1 and 1 with a normal distribution\n",
        "arr = np.random.randn(3, 4)\n",
        "print(arr)"
      ]
    },
    {
      "cell_type": "markdown",
      "id": "fe150afc",
      "metadata": {
        "id": "fe150afc"
      },
      "source": [
        "# Example of np.hstack()"
      ]
    },
    {
      "cell_type": "code",
      "execution_count": null,
      "id": "cb05778b",
      "metadata": {
        "id": "cb05778b",
        "outputId": "9197846b-ecaf-4d2f-f756-502f2d7bf13a"
      },
      "outputs": [
        {
          "name": "stdout",
          "output_type": "stream",
          "text": [
            "[[1 2]\n",
            " [3 4]\n",
            " [5 6]]\n",
            "[[7]\n",
            " [8]\n",
            " [9]]\n",
            "[[1 2 7]\n",
            " [3 4 8]\n",
            " [5 6 9]]\n"
          ]
        }
      ],
      "source": [
        "#Create a 2-dimensional array with 3 rows and 2 columns\n",
        "arr1 = np.array([[1, 2], [3, 4], [5, 6]])\n",
        "print(arr1)\n",
        "\n",
        "#Create a 2-dimensional array with 3 rows and 1 column\n",
        "arr2 = np.array([[7], [8], [9]])\n",
        "print(arr2)\n",
        "\n",
        "#Combine the two arrays horizontally\n",
        "result = np.hstack((arr1, arr2))\n",
        "print(result)"
      ]
    },
    {
      "cell_type": "markdown",
      "id": "b46d448d",
      "metadata": {
        "id": "b46d448d"
      },
      "source": [
        "# Example of np.vstack()"
      ]
    },
    {
      "cell_type": "code",
      "execution_count": null,
      "id": "433cfe81",
      "metadata": {
        "id": "433cfe81",
        "outputId": "0718d0fc-5331-4776-cba5-19400e304813"
      },
      "outputs": [
        {
          "name": "stdout",
          "output_type": "stream",
          "text": [
            "[[1 2]\n",
            " [3 4]\n",
            " [5 6]]\n",
            "[[7 8]]\n",
            "[[1 2]\n",
            " [3 4]\n",
            " [5 6]\n",
            " [7 8]]\n"
          ]
        }
      ],
      "source": [
        "# Create a 2-dimensional array with 3 rows and 2 columns\n",
        "arr1 = np.array([[1, 2], [3, 4], [5, 6]])\n",
        "print(arr1)\n",
        "\n",
        "# Create a 2-dimensional array with 1 row and 2 columns\n",
        "arr2 = np.array([[7, 8]])\n",
        "print(arr2)\n",
        "\n",
        "# Combine the two arrays vertically\n",
        "result = np.vstack((arr1, arr2))\n",
        "print(result)"
      ]
    },
    {
      "cell_type": "markdown",
      "id": "b0bbaf0d",
      "metadata": {
        "id": "b0bbaf0d"
      },
      "source": [
        "# Example of np.max() and np.min()"
      ]
    },
    {
      "cell_type": "code",
      "execution_count": null,
      "id": "fd7b48e0",
      "metadata": {
        "id": "fd7b48e0",
        "outputId": "3678f620-d1a4-403e-c7cc-44401f28b72e"
      },
      "outputs": [
        {
          "name": "stdout",
          "output_type": "stream",
          "text": [
            "[2 9 6 7 8]\n",
            "9\n",
            "2\n"
          ]
        }
      ],
      "source": [
        "# Create a 1-dimensional array with 5 random integers between 0 and 9\n",
        "arr = np.random.randint(0, 10, size=5)\n",
        "print(arr)\n",
        "\n",
        "# Find the maximum value in the array\n",
        "max_val = np.max(arr)\n",
        "print(max_val)\n",
        "\n",
        "# Find the minimum value in the array\n",
        "min_val = np.min(arr)\n",
        "print(min_val)"
      ]
    },
    {
      "cell_type": "markdown",
      "id": "d8e41597",
      "metadata": {
        "id": "d8e41597"
      },
      "source": [
        "# Example of np.gradient()"
      ]
    },
    {
      "cell_type": "code",
      "execution_count": null,
      "id": "11be3419",
      "metadata": {
        "id": "11be3419",
        "outputId": "f00af8c9-8f03-4b85-f94a-775e40828419"
      },
      "outputs": [
        {
          "name": "stdout",
          "output_type": "stream",
          "text": [
            "[ 1.  2.  4.  6.  8. 10. 12. 14. 16. 18. 19.]\n"
          ]
        }
      ],
      "source": [
        "# Create a 1-dimensional array of x values\n",
        "x = np.linspace(0, 10, num=11)\n",
        "\n",
        "# Create a 1-dimensional array of y values for a quadratic function\n",
        "y = x**2\n",
        "\n",
        "# Calculate the gradient of the y values with respect to the x values\n",
        "dydx = np.gradient(y, x)\n",
        "\n",
        "# Print the gradient values\n",
        "print(dydx)"
      ]
    },
    {
      "cell_type": "markdown",
      "id": "7806279c",
      "metadata": {
        "id": "7806279c"
      },
      "source": [
        "# Example of np.trapz()"
      ]
    },
    {
      "cell_type": "code",
      "execution_count": null,
      "id": "0a9c4947",
      "metadata": {
        "id": "0a9c4947",
        "outputId": "c6bbb806-35a5-49a0-b0d2-bdda253bbebf"
      },
      "outputs": [
        {
          "name": "stdout",
          "output_type": "stream",
          "text": [
            "335.0\n"
          ]
        }
      ],
      "source": [
        "# Create a 1-dimensional array of x values\n",
        "x = np.linspace(0, 10, num=11)\n",
        "\n",
        "# Create a 1-dimensional array of y values for a quadratic function\n",
        "y = x**2\n",
        "\n",
        "# Calculate the definite integral of the y values with respect to the x values\n",
        "integral = np.trapz(y, x)\n",
        "\n",
        "# Print the definite integral value\n",
        "print(integral)"
      ]
    },
    {
      "cell_type": "markdown",
      "id": "55532679",
      "metadata": {
        "id": "55532679"
      },
      "source": [
        "# Example of np.mean() and median()"
      ]
    },
    {
      "cell_type": "code",
      "execution_count": null,
      "id": "2f782fd0",
      "metadata": {
        "id": "2f782fd0",
        "outputId": "2a944941-6769-432f-ba66-a0a0c51aad66"
      },
      "outputs": [
        {
          "name": "stdout",
          "output_type": "stream",
          "text": [
            "[3 9 8 2 2]\n",
            "4.8\n",
            "3.0\n"
          ]
        }
      ],
      "source": [
        "# Create a 1-dimensional array with 5 random integers between 0 and 9\n",
        "arr = np.random.randint(0, 10, size=5)\n",
        "print(arr)\n",
        "\n",
        "# Find the mean of the array\n",
        "mean = np.mean(arr)\n",
        "print(mean)\n",
        "\n",
        "# Find the median of the array\n",
        "median = np.median(arr)\n",
        "print(median)"
      ]
    },
    {
      "cell_type": "markdown",
      "id": "d6bf06fb",
      "metadata": {
        "id": "d6bf06fb"
      },
      "source": [
        "# Example of np.std() and np.var()"
      ]
    },
    {
      "cell_type": "code",
      "execution_count": null,
      "id": "3b9ae5d3",
      "metadata": {
        "id": "3b9ae5d3",
        "outputId": "4f5fa0e0-1b37-407a-c11a-ebed60ce34cd"
      },
      "outputs": [
        {
          "name": "stdout",
          "output_type": "stream",
          "text": [
            "0.9585484487712865\n",
            "0.9928827188397111\n"
          ]
        }
      ],
      "source": [
        "# Create a 1-dimensional array with random values\n",
        "data = np.random.randn(1000)\n",
        "\n",
        "# Calculate the standard deviation\n",
        "std_dev = np.std(data)\n",
        "\n",
        "# Print the standard deviation\n",
        "print(std_dev)\n",
        "\n",
        "# Create a 1-dimensional array with random values\n",
        "data = np.random.randn(1000)\n",
        "\n",
        "# Calculate the variance\n",
        "variance = np.var(data)\n",
        "\n",
        "# Print the variance\n",
        "print(variance)"
      ]
    },
    {
      "cell_type": "markdown",
      "id": "1b5cb2c3",
      "metadata": {
        "id": "1b5cb2c3"
      },
      "source": [
        "# Example of np.percentile()"
      ]
    },
    {
      "cell_type": "code",
      "execution_count": null,
      "id": "03975b8f",
      "metadata": {
        "id": "03975b8f",
        "outputId": "ff801638-6c23-4bbb-aade-e15857268daa"
      },
      "outputs": [
        {
          "name": "stdout",
          "output_type": "stream",
          "text": [
            "[-0.68580795 -0.03385406  0.64511495]\n"
          ]
        }
      ],
      "source": [
        "# Create a 1-dimensional array with random values\n",
        "data = np.random.randn(1000)\n",
        "\n",
        "# Find the 25th and 50th and 75th percentiles\n",
        "percentiles = np.percentile(data, [25, 50, 75])\n",
        "\n",
        "# Print the percentiles\n",
        "print(percentiles)"
      ]
    },
    {
      "cell_type": "markdown",
      "id": "a2bb8ca4",
      "metadata": {
        "id": "a2bb8ca4"
      },
      "source": [
        "# Example of np.cov()"
      ]
    },
    {
      "cell_type": "code",
      "execution_count": null,
      "id": "269ab47e",
      "metadata": {
        "id": "269ab47e",
        "outputId": "fea414eb-8838-48f2-cded-74676482ca35"
      },
      "outputs": [
        {
          "name": "stdout",
          "output_type": "stream",
          "text": [
            "[[0.094481   0.03291577]\n",
            " [0.03291577 0.12680294]]\n"
          ]
        }
      ],
      "source": [
        "# Create a 2D array with 5 rows and 2 columns\n",
        "arr = np.random.rand(5, 2)\n",
        "\n",
        "# Calculate the covariance matrix\n",
        "cov_matrix = np.cov(arr, rowvar=False)\n",
        "\n",
        "print(cov_matrix)"
      ]
    },
    {
      "cell_type": "markdown",
      "id": "5e6e1b46",
      "metadata": {
        "id": "5e6e1b46"
      },
      "source": [
        "# Example of np.corrcoef()"
      ]
    },
    {
      "cell_type": "code",
      "execution_count": null,
      "id": "920c809a",
      "metadata": {
        "id": "920c809a",
        "outputId": "0285bcbc-a2a9-4a5e-c1bc-050d25453b78"
      },
      "outputs": [
        {
          "name": "stdout",
          "output_type": "stream",
          "text": [
            "[[1.         0.41393611]\n",
            " [0.41393611 1.        ]]\n"
          ]
        }
      ],
      "source": [
        "# Create a 2D array with 5 rows and 2 columns\n",
        "arr = np.random.rand(5, 2)\n",
        "\n",
        "# Calculate the correlation coefficient matrix\n",
        "corr_matrix = np.corrcoef(arr, rowvar=False)\n",
        "\n",
        "print(corr_matrix)"
      ]
    },
    {
      "cell_type": "markdown",
      "id": "b2b504ae",
      "metadata": {
        "id": "b2b504ae"
      },
      "source": [
        "# Example of np.polyfit()"
      ]
    },
    {
      "cell_type": "code",
      "execution_count": null,
      "id": "86897c35",
      "metadata": {
        "id": "86897c35",
        "outputId": "044f40f5-3f94-42dd-eaed-959cc1183001"
      },
      "outputs": [
        {
          "data": {
            "image/png": "[encoded data removed]",
            "text/plain": [
              "<Figure size 640x480 with 1 Axes>"
            ]
          },
          "metadata": {},
          "output_type": "display_data"
        }
      ],
      "source": [
        "import numpy as np\n",
        "import matplotlib.pyplot as plt\n",
        "\n",
        "# Create a 1D array with 100 elements\n",
        "x = np.linspace(-10, 10, 100)\n",
        "y = x + np.random.normal(0, 1, size=100)\n",
        "\n",
        "# Fit a line to the data\n",
        "fit = np.polyfit(x, y, 1)\n",
        "\n",
        "# Plot the data and the fitted line\n",
        "plt.scatter(x, y)\n",
        "plt.plot(x, fit[0]*x + fit[1], color='red')\n",
        "\n",
        "plt.show()"
      ]
    },
    {
      "cell_type": "markdown",
      "id": "129fa10d",
      "metadata": {
        "id": "129fa10d"
      },
      "source": [
        "# Example of np.random.normal()"
      ]
    },
    {
      "cell_type": "code",
      "execution_count": null,
      "id": "6929f317",
      "metadata": {
        "id": "6929f317",
        "outputId": "28cc2d82-f874-41b5-e930-07083cc981af"
      },
      "outputs": [
        {
          "data": {
            "image/png": "[encoded data removed]",
            "text/plain": [
              "<Figure size 640x480 with 1 Axes>"
            ]
          },
          "metadata": {},
          "output_type": "display_data"
        }
      ],
      "source": [
        "import numpy as np\n",
        "import matplotlib.pyplot as plt\n",
        "\n",
        "# Generate 1000 random numbers from a normal distribution with mean 0 and standard deviation 1\n",
        "data = np.random.normal(0, 1, size=1000)\n",
        "\n",
        "# Plot the histogram of the data\n",
        "plt.hist(data, bins=50)\n",
        "\n",
        "plt.show()"
      ]
    },
    {
      "cell_type": "markdown",
      "id": "d27e8719",
      "metadata": {
        "id": "d27e8719"
      },
      "source": [
        "# Example of np.random.gamma()"
      ]
    },
    {
      "cell_type": "code",
      "execution_count": null,
      "id": "a8d7cad8",
      "metadata": {
        "id": "a8d7cad8",
        "outputId": "c203d71f-094a-4c63-e5fd-bda9eb5397f3"
      },
      "outputs": [
        {
          "data": {
            "image/png": "[encoded data removed]",
            "text/plain": [
              "<Figure size 640x480 with 1 Axes>"
            ]
          },
          "metadata": {},
          "output_type": "display_data"
        }
      ],
      "source": [
        "import numpy as np\n",
        "import matplotlib.pyplot as plt\n",
        "\n",
        "# Generate 1000 random numbers from a gamma distribution with shape parameter k=5 and scale parameter theta=1\n",
        "data = np.random.gamma(5, 1, size=1000)\n",
        "\n",
        "# Plot the histogram of the data\n",
        "plt.hist(data, bins=50)\n",
        "\n",
        "plt.show()"
      ]
    },
    {
      "cell_type": "markdown",
      "id": "25618153",
      "metadata": {
        "id": "25618153"
      },
      "source": [
        "# Example of np.random..binomial()"
      ]
    },
    {
      "cell_type": "code",
      "execution_count": null,
      "id": "e4d7e3c6",
      "metadata": {
        "id": "e4d7e3c6",
        "outputId": "074eec4b-0f37-4aac-a635-5fedf9c98762"
      },
      "outputs": [
        {
          "data": {
            "image/png": "[encoded data removed]",
            "text/plain": [
              "<Figure size 640x480 with 1 Axes>"
            ]
          },
          "metadata": {},
          "output_type": "display_data"
        }
      ],
      "source": [
        "import numpy as np\n",
        "import matplotlib.pyplot as plt\n",
        "\n",
        "# Generate 1000 random numbers from a binomial distribution with n=10 and p=0.5\n",
        "data = np.random.binomial(10, 0.5, size=1000)\n",
        "\n",
        "# Plot the histogram of the data\n",
        "plt.hist(data, bins=50)\n",
        "\n",
        "plt.show()"
      ]
    },
    {
      "cell_type": "markdown",
      "id": "0694dc22",
      "metadata": {
        "id": "0694dc22"
      },
      "source": [
        "# Example of Area under curve"
      ]
    },
    {
      "cell_type": "code",
      "execution_count": null,
      "id": "ad59d775",
      "metadata": {
        "id": "ad59d775",
        "outputId": "81c7368e-d024-4c70-e1cb-672d5b04994d"
      },
      "outputs": [
        {
          "data": {
            "image/png": "[encoded data removed]",
            "text/plain": [
              "<Figure size 640x480 with 1 Axes>"
            ]
          },
          "metadata": {},
          "output_type": "display_data"
        }
      ],
      "source": [
        "import numpy as np\n",
        "import matplotlib.pyplot as plt\n",
        "\n",
        "# Define the function to be plotted\n",
        "def func(x):\n",
        "    return x**2\n",
        "\n",
        "# Create an array of x values\n",
        "x = np.linspace(-5, 5, 1000)\n",
        "\n",
        "# Evaluate the function at each x value\n",
        "y = func(x)\n",
        "\n",
        "# Plot the function\n",
        "plt.plot(x, y)\n",
        "\n",
        "# Fill the area under the curve\n",
        "plt.fill_between(x, y, where=y >= 0, interpolate=True, alpha=0.5)\n",
        "\n",
        "# Set the limits of the plot\n",
        "plt.xlim(-5, 5)\n",
        "plt.ylim(0, 25)\n",
        "\n",
        "# Calculate the area under the curve using the trapezoidal rule\n",
        "area = np.trapz(y, x)\n",
        "\n",
        "# Display the area on the plot\n",
        "plt.text(2, 20, f\"Area = {area:.2f}\", fontsize=12)\n",
        "\n",
        "# Show the plot\n",
        "plt.show()\n"
      ]
    },
    {
      "cell_type": "code",
      "execution_count": 7,
      "id": "129d7672",
      "metadata": {
        "colab": {
          "base_uri": "https://localhost:8080/",
          "height": 447
        },
        "id": "129d7672",
        "outputId": "5c69739c-e76c-4970-86e1-dab2185275ad"
      },
      "outputs": [
        {
          "output_type": "stream",
          "name": "stdout",
          "text": [
            "Area under curve: 1.999998351770852\n"
          ]
        },
        {
          "output_type": "display_data",
          "data": {
            "text/plain": [
              "<Figure size 640x480 with 1 Axes>"
            ],
            "image/png": "[encoded data removed]"
          },
          "metadata": {}
        }
      ],
      "source": [
        "import numpy as np\n",
        "import matplotlib.pyplot as plt\n",
        "\n",
        "def plot_and_calculate_area(func, lower, upper, num_samples):\n",
        "    # Generate x values\n",
        "    x = np.linspace(lower, upper, num_samples)\n",
        "    \n",
        "    # Evaluate function at x values\n",
        "    y = func(x)\n",
        "    \n",
        "    # Plot function\n",
        "    plt.plot(x, y )\n",
        "    \n",
        "    # Calculate area under curve using trapezoidal rule\n",
        "    area = np.trapz(y, x)\n",
        "    \n",
        "    return area\n",
        "\n",
        "# Example usage\n",
        "func = np.sin\n",
        "lower = 0\n",
        "upper = np.pi\n",
        "num_samples = 1000\n",
        "\n",
        "area = plot_and_calculate_area(func, lower, upper, num_samples)\n",
        "print(f\"Area under curve: {area}\")\n"
      ]
    },
    {
      "cell_type": "markdown",
      "source": [
        "This code is comparing the time and memory usage of creating a simple Python list with N elements and creating a NumPy array with N elements.\n",
        "\n",
        "The timeit module is used to measure the time it takes to create each data structure. The number parameter specifies the number of times to run each function, and the timeit module returns the average time it takes to run each function.\n",
        "\n",
        "The memory_profiler module is used to measure the memory usage of each function. The memory_usage function takes a tuple of the function to be measured and any arguments it requires. It returns a list of memory usage values at regular intervals during the function's execution. The maximum and minimum values are used to calculate the actual memory usage of the function.\n",
        "\n",
        "The results of the time and memory usage measurements are then printed to the console.\n",
        "\n",
        "Overall, this code provides a comparison between the performance and memory usage of a simple Python list and a NumPy array, which can be helpful when choosing which data structure to use in different situations."
      ],
      "metadata": {
        "id": "kZKREMyDrno8"
      },
      "id": "kZKREMyDrno8"
    },
    {
      "cell_type": "code",
      "execution_count": 3,
      "id": "7cfda049",
      "metadata": {
        "colab": {
          "base_uri": "https://localhost:8080/"
        },
        "id": "7cfda049",
        "outputId": "86eaf298-ae1d-47da-9810-a61d9b4d6cba"
      },
      "outputs": [
        {
          "output_type": "stream",
          "name": "stdout",
          "text": [
            "Python list creation time: 54.378519417999996\n",
            "Numpy array creation time: 1.894017606999995\n",
            "Python list memory usage: 382.50390625 MB\n",
            "Numpy array memory usage: 58.58203125 MB\n"
          ]
        }
      ],
      "source": [
        "import timeit\n",
        "import numpy as np\n",
        "from memory_profiler import memory_usage\n",
        "\n",
        "N = 10000000  # The number of elements in the list and array\n",
        "arr_size = 100000000  # The size of the array to be created for memory usage comparison\n",
        "\n",
        "# Create a simple Python list with N elements\n",
        "def create_python_list():\n",
        "    return list(range(N))\n",
        "\n",
        "# Create a NumPy array with N elements\n",
        "def create_numpy_array():\n",
        "    return np.arange(N)\n",
        "\n",
        "# Measure the time it takes to create a Python list\n",
        "python_list_time = timeit.timeit(create_python_list, number=100)\n",
        "\n",
        "# Measure the time it takes to create a NumPy array\n",
        "numpy_array_time = timeit.timeit(create_numpy_array, number=100)\n",
        "\n",
        "# Display the calculated times\n",
        "print(f'Python list creation time: {python_list_time}')\n",
        "print(f'Numpy array creation time: {numpy_array_time}')\n",
        "\n",
        "# Measure the memory usage for creating a Python list\n",
        "mem_usage_list = memory_usage((create_python_list,))\n",
        "\n",
        "# Measure the memory usage for creating a NumPy array\n",
        "mem_usage_numpy = memory_usage((create_numpy_array,))\n",
        "\n",
        "# Display the memory usage for each\n",
        "print(f'Python list memory usage: {max(mem_usage_list) - min(mem_usage_list)} MB')\n",
        "print(f'Numpy array memory usage: {max(mem_usage_numpy) - min(mem_usage_numpy)} MB')"
      ]
    },
    {
      "cell_type": "markdown",
      "source": [
        "The output shows the results of running the code.\n",
        "\n",
        "The first line shows the time it took to create a Python list with N elements, which is 54.38 seconds, as measured by timeit.\n",
        "\n",
        "The second line shows the time it took to create a NumPy array with N elements, which is 1.89 seconds, as measured by timeit. This indicates that creating a NumPy array is significantly faster than creating a Python list.\n",
        "\n",
        "The third line shows the memory usage of creating a Python list, which is 382.50 MB, as measured by memory_profiler. This is significantly larger than the memory usage of creating a NumPy array, which is 58.58 MB, as shown in the fourth line. This indicates that NumPy arrays are more memory-efficient than Python lists when dealing with large amounts of data.\n",
        "\n",
        "Overall, the results suggest that NumPy arrays are a better choice than Python lists when dealing with large amounts of data, as they are faster and more memory-efficient."
      ],
      "metadata": {
        "id": "ykjiWzW7ut1P"
      },
      "id": "ykjiWzW7ut1P"
    },
    {
      "cell_type": "code",
      "source": [],
      "metadata": {
        "id": "8JVs6h2wrT8u"
      },
      "id": "8JVs6h2wrT8u",
      "execution_count": null,
      "outputs": []
    }
  ],
  "metadata": {
    "kernelspec": {
      "display_name": "Python 3 (ipykernel)",
      "language": "python",
      "name": "python3"
    },
    "language_info": {
      "codemirror_mode": {
        "name": "ipython",
        "version": 3
      },
      "file_extension": ".py",
      "mimetype": "text/x-python",
      "name": "python",
      "nbconvert_exporter": "python",
      "pygments_lexer": "ipython3",
      "version": "3.10.6"
    },
    "colab": {
      "provenance": []
    }
  },
  "nbformat": 4,
  "nbformat_minor": 5
}